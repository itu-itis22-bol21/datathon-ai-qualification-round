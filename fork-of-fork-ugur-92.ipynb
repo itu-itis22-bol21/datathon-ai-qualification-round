{
 "cells": [
  {
   "cell_type": "code",
   "execution_count": 1,
   "id": "1122b1a0",
   "metadata": {
    "_cell_guid": "b1076dfc-b9ad-4769-8c92-a6c4dae69d19",
    "_uuid": "8f2839f25d086af736a60e9eeb907d3b93b6e0e5",
    "execution": {
     "iopub.execute_input": "2024-12-15T07:17:20.514107Z",
     "iopub.status.busy": "2024-12-15T07:17:20.513851Z",
     "iopub.status.idle": "2024-12-15T07:17:26.807268Z",
     "shell.execute_reply": "2024-12-15T07:17:26.806589Z"
    },
    "papermill": {
     "duration": 6.299064,
     "end_time": "2024-12-15T07:17:26.809304",
     "exception": false,
     "start_time": "2024-12-15T07:17:20.510240",
     "status": "completed"
    },
    "tags": []
   },
   "outputs": [],
   "source": [
    "import os\n",
    "import torch\n",
    "import pandas as pd\n",
    "from torch.utils.data import Dataset, DataLoader\n",
    "from torchvision import transforms, models\n",
    "from torch import nn, optim\n",
    "from PIL import Image\n",
    "from tqdm import tqdm\n",
    "from sklearn.model_selection import train_test_split\n",
    "\n",
    "# Define Custom Dataset\n",
    "class CustomDataset(Dataset):\n",
    "    def __init__(self, csv_file, root_dir, transform=None, mode='train'):\n",
    "        self.data = pd.read_csv(csv_file)\n",
    "        self.root_dir = root_dir\n",
    "        self.transform = transform\n",
    "        self.mode = mode\n",
    "        \n",
    "        if self.mode == 'train':\n",
    "            self.classes = sorted(self.data['city'].unique())\n",
    "            self.class_to_idx = {cls_name: idx for idx, cls_name in enumerate(self.classes)}\n",
    "\n",
    "    def __len__(self):\n",
    "        return len(self.data)\n",
    "\n",
    "    def __getitem__(self, idx):\n",
    "        img_name = os.path.join(self.root_dir, self.data.iloc[idx]['filename'])\n",
    "        image = Image.open(img_name).convert('RGB')\n",
    "        \n",
    "        if self.transform:\n",
    "            image = self.transform(image)\n",
    "        \n",
    "        if self.mode == 'train':\n",
    "            city = self.data.iloc[idx]['city']\n",
    "            label = self.class_to_idx[city]\n",
    "            return image, label\n",
    "        else:\n",
    "            return image, self.data.iloc[idx]['filename']\n"
   ]
  },
  {
   "cell_type": "code",
   "execution_count": 2,
   "id": "a3a15f1a",
   "metadata": {
    "execution": {
     "iopub.execute_input": "2024-12-15T07:17:26.815480Z",
     "iopub.status.busy": "2024-12-15T07:17:26.815082Z",
     "iopub.status.idle": "2024-12-15T07:17:26.901839Z",
     "shell.execute_reply": "2024-12-15T07:17:26.900812Z"
    },
    "papermill": {
     "duration": 0.091584,
     "end_time": "2024-12-15T07:17:26.903681",
     "exception": false,
     "start_time": "2024-12-15T07:17:26.812097",
     "status": "completed"
    },
    "tags": []
   },
   "outputs": [
    {
     "name": "stdout",
     "output_type": "stream",
     "text": [
      "Using device: cuda\n"
     ]
    }
   ],
   "source": [
    "device = \"mps\" if torch.backends.mps.is_available() else (\"cuda\" if torch.cuda.is_available() else \"cpu\")\n",
    "print(f\"Using device: {device}\")\n"
   ]
  },
  {
   "cell_type": "code",
   "execution_count": 3,
   "id": "a55c4980",
   "metadata": {
    "execution": {
     "iopub.execute_input": "2024-12-15T07:17:26.909392Z",
     "iopub.status.busy": "2024-12-15T07:17:26.909098Z",
     "iopub.status.idle": "2024-12-15T07:17:26.959080Z",
     "shell.execute_reply": "2024-12-15T07:17:26.958410Z"
    },
    "papermill": {
     "duration": 0.054617,
     "end_time": "2024-12-15T07:17:26.960645",
     "exception": false,
     "start_time": "2024-12-15T07:17:26.906028",
     "status": "completed"
    },
    "tags": []
   },
   "outputs": [],
   "source": [
    "train_csv = '/kaggle/input/datathon-ai-qualification-round/train_data.csv'\n",
    "test_csv = '/kaggle/input/datathon-ai-qualification-round/test.csv'\n",
    "train_dir = '/kaggle/input/datathon-ai-qualification-round/train/train'  # Adjust this to the correct path\n",
    "test_dir = '/kaggle/input/datathon-ai-qualification-round/test/test'\n",
    "\n",
    "\n",
    "# Split training CSV into train and validation sets\n",
    "df = pd.read_csv(train_csv)\n",
    "train_df, val_df = train_test_split(df, test_size=0.15, stratify=df['city'], random_state=42)\n",
    "\n",
    "# Save temporary CSVs for train and val to load with dataset class\n",
    "train_split_csv = \"train_split.csv\"\n",
    "val_split_csv = \"val_split.csv\"\n",
    "train_df.to_csv(train_split_csv, index=False)\n",
    "val_df.to_csv(val_split_csv, index=False)"
   ]
  },
  {
   "cell_type": "code",
   "execution_count": 4,
   "id": "01b58c72",
   "metadata": {
    "execution": {
     "iopub.execute_input": "2024-12-15T07:17:26.965916Z",
     "iopub.status.busy": "2024-12-15T07:17:26.965660Z",
     "iopub.status.idle": "2024-12-15T07:17:26.970926Z",
     "shell.execute_reply": "2024-12-15T07:17:26.970205Z"
    },
    "papermill": {
     "duration": 0.009541,
     "end_time": "2024-12-15T07:17:26.972366",
     "exception": false,
     "start_time": "2024-12-15T07:17:26.962825",
     "status": "completed"
    },
    "tags": []
   },
   "outputs": [],
   "source": [
    "\n",
    "# Transform definitions\n",
    "mean = [0.485, 0.456, 0.406]\n",
    "std = [0.229, 0.224, 0.225]\n",
    "\n",
    "train_transforms = transforms.Compose([\n",
    "    transforms.Resize((380, 380)),\n",
    "    transforms.RandomHorizontalFlip(),\n",
    "    transforms.RandomRotation(10),\n",
    "    transforms.ToTensor(),\n",
    "    transforms.Normalize(mean, std)\n",
    "])\n",
    "\n",
    "val_transforms = transforms.Compose([\n",
    "    transforms.Resize((380, 380)),\n",
    "    transforms.ToTensor(),\n",
    "    transforms.Normalize(mean, std)\n",
    "])\n",
    "\n",
    "test_transforms = transforms.Compose([\n",
    "    transforms.Resize((380, 380)),\n",
    "    transforms.ToTensor(),\n",
    "    transforms.Normalize(mean, std)\n",
    "])"
   ]
  },
  {
   "cell_type": "code",
   "execution_count": 5,
   "id": "9bd0b7ba",
   "metadata": {
    "execution": {
     "iopub.execute_input": "2024-12-15T07:17:26.977562Z",
     "iopub.status.busy": "2024-12-15T07:17:26.977311Z",
     "iopub.status.idle": "2024-12-15T07:17:26.998272Z",
     "shell.execute_reply": "2024-12-15T07:17:26.997646Z"
    },
    "papermill": {
     "duration": 0.025384,
     "end_time": "2024-12-15T07:17:26.999937",
     "exception": false,
     "start_time": "2024-12-15T07:17:26.974553",
     "status": "completed"
    },
    "tags": []
   },
   "outputs": [],
   "source": [
    "train_dataset = CustomDataset(csv_file=train_split_csv, root_dir=train_dir, transform=train_transforms, mode='train')\n",
    "val_dataset = CustomDataset(csv_file=val_split_csv, root_dir=train_dir, transform=val_transforms, mode='train')\n",
    "test_dataset = CustomDataset(csv_file=test_csv, root_dir=test_dir, transform=test_transforms, mode='test')\n",
    "\n",
    "train_loader = DataLoader(train_dataset, batch_size=32, shuffle=True, num_workers=0)\n",
    "val_loader = DataLoader(val_dataset, batch_size=32, shuffle=False, num_workers=0)\n",
    "test_loader = DataLoader(test_dataset, batch_size=32, shuffle=False, num_workers=0)\n"
   ]
  },
  {
   "cell_type": "code",
   "execution_count": 6,
   "id": "ae9c41f1",
   "metadata": {
    "execution": {
     "iopub.execute_input": "2024-12-15T07:17:27.005067Z",
     "iopub.status.busy": "2024-12-15T07:17:27.004834Z",
     "iopub.status.idle": "2024-12-15T07:17:27.877950Z",
     "shell.execute_reply": "2024-12-15T07:17:27.877163Z"
    },
    "papermill": {
     "duration": 0.877975,
     "end_time": "2024-12-15T07:17:27.880067",
     "exception": false,
     "start_time": "2024-12-15T07:17:27.002092",
     "status": "completed"
    },
    "tags": []
   },
   "outputs": [
    {
     "name": "stderr",
     "output_type": "stream",
     "text": [
      "Downloading: \"https://download.pytorch.org/models/efficientnet_b2_rwightman-c35c1473.pth\" to /root/.cache/torch/hub/checkpoints/efficientnet_b2_rwightman-c35c1473.pth\n",
      "100%|██████████| 35.2M/35.2M [00:00<00:00, 160MB/s]\n"
     ]
    }
   ],
   "source": [
    "device = torch.device('cuda' if torch.cuda.is_available() else 'cpu')\n",
    "num_classes = len(train_dataset.class_to_idx)\n",
    "\n",
    "# Load the EfficientNet-B0 model with pretrained weights\n",
    "model = models.efficientnet_b2(weights=models.EfficientNet_B2_Weights.IMAGENET1K_V1)\n",
    "\n",
    "# Modify the classification head to match the number of classes\n",
    "model.classifier[1] = nn.Linear(model.classifier[1].in_features, num_classes)\n",
    "model = model.to(device)\n",
    "\n",
    "criterion = nn.CrossEntropyLoss()\n",
    "optimizer = optim.Adam(model.parameters(), lr=1e-3)"
   ]
  },
  {
   "cell_type": "code",
   "execution_count": 7,
   "id": "353a8d23",
   "metadata": {
    "execution": {
     "iopub.execute_input": "2024-12-15T07:17:27.887836Z",
     "iopub.status.busy": "2024-12-15T07:17:27.887526Z",
     "iopub.status.idle": "2024-12-15T07:47:32.362320Z",
     "shell.execute_reply": "2024-12-15T07:47:32.361265Z"
    },
    "papermill": {
     "duration": 1804.551044,
     "end_time": "2024-12-15T07:47:32.433938",
     "exception": false,
     "start_time": "2024-12-15T07:17:27.882894",
     "status": "completed"
    },
    "tags": []
   },
   "outputs": [
    {
     "name": "stderr",
     "output_type": "stream",
     "text": [
      "Training Epoch 1/8: 100%|██████████| 186/186 [03:42<00:00,  1.20s/it]\n"
     ]
    },
    {
     "name": "stdout",
     "output_type": "stream",
     "text": [
      "Epoch [1/8], Train Loss: 0.5364, Train Acc: 78.72% | Val Loss: 0.3559, Val Acc: 86.29%\n"
     ]
    },
    {
     "name": "stderr",
     "output_type": "stream",
     "text": [
      "Training Epoch 2/8: 100%|██████████| 186/186 [03:27<00:00,  1.11s/it]\n"
     ]
    },
    {
     "name": "stdout",
     "output_type": "stream",
     "text": [
      "Epoch [2/8], Train Loss: 0.3289, Train Acc: 87.65% | Val Loss: 0.2551, Val Acc: 91.14%\n"
     ]
    },
    {
     "name": "stderr",
     "output_type": "stream",
     "text": [
      "Training Epoch 3/8: 100%|██████████| 186/186 [03:26<00:00,  1.11s/it]\n"
     ]
    },
    {
     "name": "stdout",
     "output_type": "stream",
     "text": [
      "Epoch [3/8], Train Loss: 0.2421, Train Acc: 90.96% | Val Loss: 0.2695, Val Acc: 90.57%\n"
     ]
    },
    {
     "name": "stderr",
     "output_type": "stream",
     "text": [
      "Training Epoch 4/8: 100%|██████████| 186/186 [03:26<00:00,  1.11s/it]\n"
     ]
    },
    {
     "name": "stdout",
     "output_type": "stream",
     "text": [
      "Epoch [4/8], Train Loss: 0.1971, Train Acc: 93.13% | Val Loss: 0.2704, Val Acc: 90.86%\n"
     ]
    },
    {
     "name": "stderr",
     "output_type": "stream",
     "text": [
      "Training Epoch 5/8: 100%|██████████| 186/186 [03:26<00:00,  1.11s/it]\n"
     ]
    },
    {
     "name": "stdout",
     "output_type": "stream",
     "text": [
      "Epoch [5/8], Train Loss: 0.1737, Train Acc: 93.65% | Val Loss: 0.2245, Val Acc: 92.48%\n"
     ]
    },
    {
     "name": "stderr",
     "output_type": "stream",
     "text": [
      "Training Epoch 6/8: 100%|██████████| 186/186 [03:25<00:00,  1.10s/it]\n"
     ]
    },
    {
     "name": "stdout",
     "output_type": "stream",
     "text": [
      "Epoch [6/8], Train Loss: 0.1402, Train Acc: 95.08% | Val Loss: 0.3093, Val Acc: 89.33%\n"
     ]
    },
    {
     "name": "stderr",
     "output_type": "stream",
     "text": [
      "Training Epoch 7/8: 100%|██████████| 186/186 [03:24<00:00,  1.10s/it]\n"
     ]
    },
    {
     "name": "stdout",
     "output_type": "stream",
     "text": [
      "Epoch [7/8], Train Loss: 0.1273, Train Acc: 95.65% | Val Loss: 0.2609, Val Acc: 91.52%\n"
     ]
    },
    {
     "name": "stderr",
     "output_type": "stream",
     "text": [
      "Training Epoch 8/8: 100%|██████████| 186/186 [03:25<00:00,  1.11s/it]\n"
     ]
    },
    {
     "name": "stdout",
     "output_type": "stream",
     "text": [
      "Epoch [8/8], Train Loss: 0.1168, Train Acc: 95.70% | Val Loss: 0.2028, Val Acc: 93.52%\n"
     ]
    }
   ],
   "source": [
    "epochs = 8\n",
    "for epoch in range(epochs):\n",
    "    # Training phase\n",
    "    model.train()\n",
    "    running_loss = 0.0\n",
    "    correct = 0\n",
    "    total = 0\n",
    "    \n",
    "    for images, labels in tqdm(train_loader, desc=f\"Training Epoch {epoch+1}/{epochs}\"):\n",
    "        images, labels = images.to(device), labels.to(device)\n",
    "        \n",
    "        optimizer.zero_grad()\n",
    "        outputs = model(images)\n",
    "        loss = criterion(outputs, labels)\n",
    "        loss.backward()\n",
    "        optimizer.step()\n",
    "        \n",
    "        running_loss += loss.item() * images.size(0)\n",
    "        _, preds = torch.max(outputs, 1)\n",
    "        correct += (preds == labels).sum().item()\n",
    "        total += labels.size(0)\n",
    "    \n",
    "    epoch_loss = running_loss / total\n",
    "    epoch_acc = correct / total\n",
    "    \n",
    "    # Validation phase\n",
    "    model.eval()\n",
    "    val_running_loss = 0.0\n",
    "    val_correct = 0\n",
    "    val_total = 0\n",
    "\n",
    "    with torch.no_grad():\n",
    "        for images, labels in val_loader:\n",
    "            images, labels = images.to(device), labels.to(device)\n",
    "            outputs = model(images)\n",
    "            val_loss = criterion(outputs, labels)\n",
    "            val_running_loss += val_loss.item() * images.size(0)\n",
    "            _, val_preds = torch.max(outputs, 1)\n",
    "            val_correct += (val_preds == labels).sum().item()\n",
    "            val_total += labels.size(0)\n",
    "    \n",
    "    val_epoch_loss = val_running_loss / val_total\n",
    "    val_epoch_acc = val_correct / val_total\n",
    "    \n",
    "    print(f\"Epoch [{epoch+1}/{epochs}], Train Loss: {epoch_loss:.4f}, Train Acc: {epoch_acc*100:.2f}% | \"\n",
    "          f\"Val Loss: {val_epoch_loss:.4f}, Val Acc: {val_epoch_acc*100:.2f}%\")\n",
    "\n",
    "\n",
    "# Save model\n",
    "torch.save(model.state_dict(), \"model30.pth\")\n"
   ]
  },
  {
   "cell_type": "code",
   "execution_count": 8,
   "id": "c73b1565",
   "metadata": {
    "execution": {
     "iopub.execute_input": "2024-12-15T07:47:32.572224Z",
     "iopub.status.busy": "2024-12-15T07:47:32.571957Z",
     "iopub.status.idle": "2024-12-15T07:48:18.178690Z",
     "shell.execute_reply": "2024-12-15T07:48:18.177675Z"
    },
    "papermill": {
     "duration": 45.678156,
     "end_time": "2024-12-15T07:48:18.180614",
     "exception": false,
     "start_time": "2024-12-15T07:47:32.502458",
     "status": "completed"
    },
    "tags": []
   },
   "outputs": [
    {
     "name": "stderr",
     "output_type": "stream",
     "text": [
      "/tmp/ipykernel_23/1309391058.py:2: FutureWarning: You are using `torch.load` with `weights_only=False` (the current default value), which uses the default pickle module implicitly. It is possible to construct malicious pickle data which will execute arbitrary code during unpickling (See https://github.com/pytorch/pytorch/blob/main/SECURITY.md#untrusted-models for more details). In a future release, the default value for `weights_only` will be flipped to `True`. This limits the functions that could be executed during unpickling. Arbitrary objects will no longer be allowed to be loaded via this mode unless they are explicitly allowlisted by the user via `torch.serialization.add_safe_globals`. We recommend you start setting `weights_only=True` for any use case where you don't have full control of the loaded file. Please open an issue on GitHub for any issues related to this experimental feature.\n",
      "  model.load_state_dict(torch.load(\"model30.pth\"))\n",
      "Predicting on Test Set: 100%|██████████| 63/63 [00:45<00:00,  1.38it/s]"
     ]
    },
    {
     "name": "stdout",
     "output_type": "stream",
     "text": [
      "Predictions saved to test_predictionsefficiencynet30.csv\n"
     ]
    },
    {
     "name": "stderr",
     "output_type": "stream",
     "text": [
      "\n"
     ]
    }
   ],
   "source": [
    "\n",
    "# Load model for inference (if needed)\n",
    "model.load_state_dict(torch.load(\"model30.pth\"))\n",
    "\n",
    "# Inference on Test\n",
    "model.eval()\n",
    "predictions = []\n",
    "\n",
    "idx_to_class = {v: k for k, v in train_dataset.class_to_idx.items()}\n",
    "\n",
    "with torch.no_grad():\n",
    "    for images, file_names in tqdm(test_loader, desc=\"Predicting on Test Set\"):\n",
    "        images = images.to(device)\n",
    "        outputs = model(images)\n",
    "        _, preds = torch.max(outputs, 1)\n",
    "        \n",
    "        for f, p in zip(file_names, preds):\n",
    "            city_name = idx_to_class[p.item()]\n",
    "            predictions.append((f, city_name))\n",
    "\n",
    "# Save predictions\n",
    "pred_df = pd.DataFrame(predictions, columns=[\"filename\", \"city\"])\n",
    "pred_df.to_csv(\"test_predictionsefficiencynet30.csv\", index=False)\n",
    "print(\"Predictions saved to test_predictionsefficiencynet30.csv\")\n",
    "\n"
   ]
  },
  {
   "cell_type": "code",
   "execution_count": null,
   "id": "be651f93",
   "metadata": {
    "papermill": {
     "duration": 0.071561,
     "end_time": "2024-12-15T07:48:18.326498",
     "exception": false,
     "start_time": "2024-12-15T07:48:18.254937",
     "status": "completed"
    },
    "tags": []
   },
   "outputs": [],
   "source": []
  }
 ],
 "metadata": {
  "kaggle": {
   "accelerator": "nvidiaTeslaT4",
   "dataSources": [
    {
     "databundleVersionId": 10477255,
     "sourceId": 90279,
     "sourceType": "competition"
    }
   ],
   "dockerImageVersionId": 30805,
   "isGpuEnabled": true,
   "isInternetEnabled": true,
   "language": "python",
   "sourceType": "notebook"
  },
  "kernelspec": {
   "display_name": "Python 3",
   "language": "python",
   "name": "python3"
  },
  "language_info": {
   "codemirror_mode": {
    "name": "ipython",
    "version": 3
   },
   "file_extension": ".py",
   "mimetype": "text/x-python",
   "name": "python",
   "nbconvert_exporter": "python",
   "pygments_lexer": "ipython3",
   "version": "3.10.14"
  },
  "papermill": {
   "default_parameters": {},
   "duration": 1861.739895,
   "end_time": "2024-12-15T07:48:19.819363",
   "environment_variables": {},
   "exception": null,
   "input_path": "__notebook__.ipynb",
   "output_path": "__notebook__.ipynb",
   "parameters": {},
   "start_time": "2024-12-15T07:17:18.079468",
   "version": "2.6.0"
  }
 },
 "nbformat": 4,
 "nbformat_minor": 5
}
